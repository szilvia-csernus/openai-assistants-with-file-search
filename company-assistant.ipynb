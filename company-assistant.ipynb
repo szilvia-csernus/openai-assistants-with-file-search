{
 "cells": [
  {
   "cell_type": "code",
   "execution_count": 1,
   "id": "2e76e39b-8eb1-4345-b0f1-51a400767f8a",
   "metadata": {},
   "outputs": [
    {
     "data": {
      "text/plain": [
       "True"
      ]
     },
     "execution_count": 1,
     "metadata": {},
     "output_type": "execute_result"
    }
   ],
   "source": [
    "from openai import OpenAI\n",
    "from dotenv import load_dotenv\n",
    "load_dotenv()"
   ]
  },
  {
   "cell_type": "code",
   "execution_count": 2,
   "id": "af035e7a-6594-4a7e-8929-24effdbbf45d",
   "metadata": {},
   "outputs": [],
   "source": [
    "client = OpenAI()"
   ]
  },
  {
   "cell_type": "code",
   "execution_count": 18,
   "id": "372fd642-d37f-4136-9937-0395b0773050",
   "metadata": {},
   "outputs": [],
   "source": [
    "# Create the assistant\n",
    "assistant = client.beta.assistants.create(\n",
    "    name=\"Policy Explainer\",\n",
    "    instructions=\"You answer questions about company rules based on your knowledge of the company policy Markdown file.\",\n",
    "    tools = [{'type':'file_search'}],\n",
    "    model = 'gpt-4o'\n",
    ")"
   ]
  },
  {
   "cell_type": "code",
   "execution_count": 19,
   "id": "e42286b0-a484-43e3-84fe-f95053b4ec32",
   "metadata": {},
   "outputs": [
    {
     "data": {
      "text/plain": [
       "'asst_NLEskiKYda13bLcJtKNeZ1FV'"
      ]
     },
     "execution_count": 19,
     "metadata": {},
     "output_type": "execute_result"
    }
   ],
   "source": [
    "assistant.id"
   ]
  },
  {
   "cell_type": "code",
   "execution_count": 50,
   "id": "39821e8b-4517-4d11-8dab-5ed69314ca45",
   "metadata": {},
   "outputs": [
    {
     "name": "stdout",
     "output_type": "stream",
     "text": [
      "completed\n",
      "FileCounts(cancelled=0, completed=1, failed=0, in_progress=0, total=1)\n"
     ]
    }
   ],
   "source": [
    "# Create a vector store caled \"Company Policies\"\n",
    "vector_store = client.beta.vector_stores.create(name=\"Company Policies\")\n",
    " \n",
    "# Ready the files for upload to OpenAI\n",
    "file_paths = [\"policies/company-policy.md\"]\n",
    "file_streams = [open(path, \"rb\") for path in file_paths]\n",
    " \n",
    "# Use the upload and poll SDK helper to upload the files, add them to the vector store,\n",
    "# and poll the status of the file batch for completion.\n",
    "file_batch = client.beta.vector_stores.file_batches.upload_and_poll(\n",
    "  vector_store_id=vector_store.id, files=file_streams\n",
    ")\n",
    " \n",
    "# You can print the status and the file counts of the batch to see the result of this operation.\n",
    "print(file_batch.status)\n",
    "print(file_batch.file_counts)"
   ]
  },
  {
   "cell_type": "code",
   "execution_count": 51,
   "id": "cb59c65b-0f05-4dab-abc4-7d1d6b3d3e5d",
   "metadata": {},
   "outputs": [],
   "source": [
    "# Update the assistant with the vector store id(s)\n",
    "assistant = client.beta.assistants.update(\n",
    "  assistant_id=assistant.id,\n",
    "  tool_resources={\"file_search\": {\"vector_store_ids\": [vector_store.id]}},\n",
    ")"
   ]
  },
  {
   "cell_type": "code",
   "execution_count": null,
   "id": "abd74ed7-c7e1-4b2a-95df-1097f5b4c525",
   "metadata": {},
   "outputs": [],
   "source": [
    "# Add a new file to the vector store, this time in a PDF format. Note, you don't need to update the assistant again\n",
    "# as it's referring to the vector store id which has not changed.\n",
    "file_02_path = \"policies/health-and-safety-policy.pdf\"\n",
    "file_02_stream = open(file_02_path, \"rb\")\n",
    "\n",
    "file_batch = client.beta.vector_stores.file_batches.upload_and_poll(\n",
    "  vector_store_id=vector_store.id, files=[file_02_stream]\n",
    ")"
   ]
  },
  {
   "cell_type": "code",
   "execution_count": 89,
   "id": "f0dd7a99-ff63-4a30-9b20-b4bf9e72b274",
   "metadata": {},
   "outputs": [],
   "source": [
    "# Create a thread\n",
    "thread = client.beta.threads.create()"
   ]
  },
  {
   "cell_type": "code",
   "execution_count": 90,
   "id": "f5a27d53-fdb4-4dc0-8046-9b82642c9dcc",
   "metadata": {},
   "outputs": [
    {
     "data": {
      "text/plain": [
       "'thread_upOuLEkNsv78XgfY0YpXKe91'"
      ]
     },
     "execution_count": 90,
     "metadata": {},
     "output_type": "execute_result"
    }
   ],
   "source": [
    "thread.id"
   ]
  },
  {
   "cell_type": "code",
   "execution_count": 88,
   "id": "40776a58-6e53-4df5-856c-1400bc6f3324",
   "metadata": {},
   "outputs": [
    {
     "data": {
      "text/plain": [
       "ThreadDeleted(id='thread_oLPlBIgArf987NnlQX0Wim2q', deleted=True, object='thread.deleted')"
      ]
     },
     "execution_count": 88,
     "metadata": {},
     "output_type": "execute_result"
    }
   ],
   "source": [
    "client.beta.threads.delete('thread_oLPlBIgArf987NnlQX0Wim2q')"
   ]
  },
  {
   "cell_type": "code",
   "execution_count": 91,
   "id": "fafc63e3-554a-4239-8ea1-605c56849a8b",
   "metadata": {},
   "outputs": [],
   "source": [
    "# Create our first message. The answer to this question can be found in the PDF document which was uploaded later.\n",
    "message_1 = client.beta.threads.messages.create(\n",
    "    thread_id = thread.id,\n",
    "    role = 'user',\n",
    "    content = 'Can I bring my pet cat to the work?'\n",
    ")"
   ]
  },
  {
   "cell_type": "code",
   "execution_count": 92,
   "id": "c0764326-de3c-4310-88ad-aa52c5b5d122",
   "metadata": {},
   "outputs": [],
   "source": [
    "# Create a run for the thread\n",
    "run = client.beta.threads.runs.create(\n",
    "    assistant_id = assistant.id,\n",
    "    thread_id = thread.id)"
   ]
  },
  {
   "cell_type": "code",
   "execution_count": 93,
   "id": "2eaad206-79e8-454b-84c5-b69548bac913",
   "metadata": {},
   "outputs": [
    {
     "data": {
      "text/plain": [
       "'queued'"
      ]
     },
     "execution_count": 93,
     "metadata": {},
     "output_type": "execute_result"
    }
   ],
   "source": [
    "run.status"
   ]
  },
  {
   "cell_type": "code",
   "execution_count": 94,
   "id": "a72536fe-8d55-447b-a884-156b0484483f",
   "metadata": {},
   "outputs": [],
   "source": [
    "# Retrieve a run\n",
    "run = client.beta.threads.runs.retrieve(\n",
    "    thread_id=thread.id,\n",
    "    run_id=run.id)"
   ]
  },
  {
   "cell_type": "code",
   "execution_count": 95,
   "id": "0f78bf52-521e-4d84-97cd-8a9e5f93e0b2",
   "metadata": {},
   "outputs": [
    {
     "data": {
      "text/plain": [
       "'completed'"
      ]
     },
     "execution_count": 95,
     "metadata": {},
     "output_type": "execute_result"
    }
   ],
   "source": [
    "run.status"
   ]
  },
  {
   "cell_type": "code",
   "execution_count": 96,
   "id": "4d5014e5-e0c8-4c6f-9082-cd0818c53123",
   "metadata": {},
   "outputs": [],
   "source": [
    "messages = client.beta.threads.messages.list(\n",
    "    thread_id = thread.id\n",
    ")"
   ]
  },
  {
   "cell_type": "code",
   "execution_count": 97,
   "id": "3f7d233f-9a6d-4f78-abd9-7c719dd1d5ce",
   "metadata": {},
   "outputs": [
    {
     "name": "stdout",
     "output_type": "stream",
     "text": [
      "Message(id='msg_SLDLAr6niK9mlwSpUSclqv64', assistant_id='asst_NLEskiKYda13bLcJtKNeZ1FV', attachments=[], completed_at=None, content=[TextContentBlock(text=Text(annotations=[FileCitationAnnotation(end_index=656, file_citation=FileCitation(file_id='file-7eo6hweJlOcWgW7F0VZ5bBSj'), start_index=644, text='【4:0†source】', type='file_citation')], value='Yes, you can bring your pet cat to work, provided certain conditions are met. According to the Specialty Cakes Facility Health and Safety Policy:\\n\\n1. Pets must be well-behaved, healthy, and up-to-date with vaccinations.\\n2. They must be supervised at all times by their owners.\\n3. Pets are not allowed in food preparation or storage areas.\\n4. Owners must clean up after their pets immediately and ensure the pet is clean and free from parasites.\\n5. Pets must be kept on a leash or in a carrier.\\n6. Any pet exhibiting aggressive behavior will be asked to leave the premises.\\n7. Owners are responsible for any damage or injury caused by their pets【4:0†source】.'), type='text')], created_at=1718444292, incomplete_at=None, incomplete_details=None, metadata={}, object='thread.message', role='assistant', run_id='run_5AULava9igHjct6581LybYmW', status=None, thread_id='thread_upOuLEkNsv78XgfY0YpXKe91')\n",
      "\n",
      "\n",
      "Message(id='msg_AFCeD5MqCWbbdrU9MTe3LYZF', assistant_id=None, attachments=[], completed_at=None, content=[TextContentBlock(text=Text(annotations=[], value='Can I bring my pet cat to the work?'), type='text')], created_at=1718444274, incomplete_at=None, incomplete_details=None, metadata={}, object='thread.message', role='user', run_id=None, status=None, thread_id='thread_upOuLEkNsv78XgfY0YpXKe91')\n",
      "\n",
      "\n"
     ]
    }
   ],
   "source": [
    "for message in messages:\n",
    "    print(message)\n",
    "    print('\\n')"
   ]
  },
  {
   "cell_type": "code",
   "execution_count": 98,
   "id": "34a3598e-4c35-4a85-bd0c-de34b22da8c7",
   "metadata": {},
   "outputs": [
    {
     "data": {
      "text/plain": [
       "'Yes, you can bring your pet cat to work, provided certain conditions are met. According to the Specialty Cakes Facility Health and Safety Policy:\\n\\n1. Pets must be well-behaved, healthy, and up-to-date with vaccinations.\\n2. They must be supervised at all times by their owners.\\n3. Pets are not allowed in food preparation or storage areas.\\n4. Owners must clean up after their pets immediately and ensure the pet is clean and free from parasites.\\n5. Pets must be kept on a leash or in a carrier.\\n6. Any pet exhibiting aggressive behavior will be asked to leave the premises.\\n7. Owners are responsible for any damage or injury caused by their pets【4:0†source】.'"
      ]
     },
     "execution_count": 98,
     "metadata": {},
     "output_type": "execute_result"
    }
   ],
   "source": [
    "messages.data[0].content[0].text.value\n"
   ]
  },
  {
   "cell_type": "code",
   "execution_count": 99,
   "id": "994de96d-086a-48e7-abe1-11b1c771c5c3",
   "metadata": {},
   "outputs": [],
   "source": [
    "run_steps = client.beta.threads.runs.steps.list(\n",
    "    thread_id = thread.id,\n",
    "    run_id = run.id\n",
    ")"
   ]
  },
  {
   "cell_type": "code",
   "execution_count": 100,
   "id": "d883d2ba-f65e-498c-be9a-ac3871c032e7",
   "metadata": {},
   "outputs": [
    {
     "name": "stdout",
     "output_type": "stream",
     "text": [
      "MessageCreationStepDetails(message_creation=MessageCreation(message_id='msg_SLDLAr6niK9mlwSpUSclqv64'), type='message_creation')\n",
      "\n",
      "\n",
      "ToolCallsStepDetails(tool_calls=[FileSearchToolCall(id='call_nhD7tCRoA3Jif2iGgVaHcQev', file_search={}, type='file_search')], type='tool_calls')\n",
      "\n",
      "\n"
     ]
    }
   ],
   "source": [
    "for step in run_steps:\n",
    "    print(step.step_details)\n",
    "    print('\\n')"
   ]
  },
  {
   "cell_type": "code",
   "execution_count": 101,
   "id": "f9dc8f18-75ad-4019-8246-c2b6f5f462d1",
   "metadata": {},
   "outputs": [],
   "source": [
    "files = client.beta.vector_stores.files.list(\n",
    "    vector_store_id=vector_store.id\n",
    ")"
   ]
  },
  {
   "cell_type": "code",
   "execution_count": 102,
   "id": "6777d659-ceb5-4faf-b124-12504ed4345d",
   "metadata": {},
   "outputs": [
    {
     "data": {
      "text/plain": [
       "[VectorStoreFile(id='file-7eo6hweJlOcWgW7F0VZ5bBSj', created_at=1718443070, last_error=None, object='vector_store.file', status='completed', usage_bytes=4563, vector_store_id='vs_p3He4Gl0XY7FcOmORnqnk2VA', chunking_strategy=ChunkingStrategyStatic(static=ChunkingStrategyStaticStatic(chunk_overlap_tokens=400, max_chunk_size_tokens=800), type='static')),\n",
       " VectorStoreFile(id='file-1UVS5tbDzkemXgq5LckqMHX0', created_at=1718442940, last_error=None, object='vector_store.file', status='completed', usage_bytes=6187, vector_store_id='vs_p3He4Gl0XY7FcOmORnqnk2VA', chunking_strategy=ChunkingStrategyStatic(static=ChunkingStrategyStaticStatic(chunk_overlap_tokens=400, max_chunk_size_tokens=800), type='static'))]"
      ]
     },
     "execution_count": 102,
     "metadata": {},
     "output_type": "execute_result"
    }
   ],
   "source": [
    "files.data"
   ]
  },
  {
   "cell_type": "code",
   "execution_count": 21,
   "id": "1cf56606-1ce7-4dd2-9252-c3ec214cdcab",
   "metadata": {},
   "outputs": [],
   "source": [
    "# Delete the assistant:\n",
    "response = client.beta.assistants.delete(assistant.id)"
   ]
  },
  {
   "cell_type": "code",
   "execution_count": 22,
   "id": "eecd0301-84d7-436d-a238-e98d595aeb31",
   "metadata": {},
   "outputs": [
    {
     "data": {
      "text/plain": [
       "AssistantDeleted(id='asst_HYSt1vSEPMsIFUrvgvn4bqVy', deleted=True, object='assistant.deleted')"
      ]
     },
     "execution_count": 22,
     "metadata": {},
     "output_type": "execute_result"
    }
   ],
   "source": [
    "response"
   ]
  },
  {
   "cell_type": "code",
   "execution_count": null,
   "id": "9d11e8d2-599c-4eb4-b6ff-5c9ae1c77636",
   "metadata": {},
   "outputs": [],
   "source": []
  }
 ],
 "metadata": {
  "kernelspec": {
   "display_name": "Python 3 (ipykernel)",
   "language": "python",
   "name": "python3"
  },
  "language_info": {
   "codemirror_mode": {
    "name": "ipython",
    "version": 3
   },
   "file_extension": ".py",
   "mimetype": "text/x-python",
   "name": "python",
   "nbconvert_exporter": "python",
   "pygments_lexer": "ipython3",
   "version": "3.12.2"
  }
 },
 "nbformat": 4,
 "nbformat_minor": 5
}
